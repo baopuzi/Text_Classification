{
 "cells": [
  {
   "cell_type": "code",
   "execution_count": 22,
   "metadata": {},
   "outputs": [
    {
     "name": "stdout",
     "output_type": "stream",
     "text": [
      "0.91\n"
     ]
    }
   ],
   "source": [
    "# !/usr/bin/env python\n",
    "# -*- coding:utf8 -*-\n",
    "import os\n",
    "# 常用的中文分词包jieba；相应地，常用的英文分词包是NTLK\n",
    "import jieba  \n",
    "# TfidfVectorizer，用来将原始文本转化为tf-idf的特征矩阵\n",
    "from sklearn.feature_extraction.text import TfidfVectorizer\n",
    "# 多项式贝叶斯分类器\n",
    "from sklearn.naive_bayes import MultinomialNB\n",
    "from sklearn import metrics\n",
    "\n",
    "\n",
    "# 分类标识字典\n",
    "labels = {'体育': 0, '女性': 1, '文学': 2, '校园': 3}\n",
    "# 加载停用词\n",
    "with open('./data/stop/stopword.txt', 'rb') as f:\n",
    "    STOP_WORDS = [line.strip() for line in f.readlines()]\n",
    "\n",
    "\n",
    "    \n",
    "def load_data(path):\n",
    "#获取分词结果和对应标签\n",
    "\n",
    "    documents = []\n",
    "    labels = []    \n",
    "    # 循环所有文件并进行分词\n",
    "    # os.walk(path)得到的是多个元组构成的一个生成器，1个元祖的结构是：root表示路径字符串，dirs表示该路径下的文件夹列表，files表示该路径下的文件列表\n",
    "    for root, dirs, files in os.walk(path): \n",
    "        for file in files:\n",
    "            # 获取标识（体育、女性、文学、校园），注意，windows获取的新路径，斜杆变成了反斜杠。\n",
    "            label = root.split('\\\\')[-1] \n",
    "            labels.append(label)\n",
    "            # 路径+文件名合成新的文件路径\n",
    "            filename = os.path.join(root, file)\n",
    "            # 因为字符集问题因此直接用二进制方式读取\n",
    "            with open(filename, 'rb') as f: \n",
    "                content = f.read()\n",
    "                # 使用jieba工具包进行中文分词，得到的结果是字符串列表\n",
    "                word_list = list(jieba.cut(content))\n",
    "                # 将子字符串列表，利用join函数生成一个新的长字符串，其中子字符串以空格隔开；\n",
    "                # 最后循环得到的字符串列表，每一个元素就是一个文档分词的字符串，每个元素中的单词以逗号隔开\n",
    "                documents.append(' '.join(word_list))\n",
    "                \n",
    "    # 返回所有文档的分词列表，以及每个文档一一对应的标识\n",
    "    return documents, labels\n",
    "\n",
    "\n",
    "def train_fun(train_data, train_label, test_data, test_label):\n",
    "    \"\"\"\n",
    "    构造模型并计算测试集准确率，字数限制变量名简写\n",
    "    :param train_data: 训练集数据\n",
    "    :param train_label: 训练集标签\n",
    "    :param test_data: 测试集数据\n",
    "    :param test_label: 测试集标签\n",
    "    :return: 测试集准确率\n",
    "    \"\"\"\n",
    "    # 计算训练数据集矩阵，max_df=0.5 表示一个单词在50%的文档中都出现过了，因此不作为分词统计。\n",
    "    tf = TfidfVectorizer(stop_words=STOP_WORDS, max_df=0.5)\n",
    "    features = tf.fit_transform(train_data)\n",
    "    # 训练模型\n",
    "    clf = MultinomialNB(alpha=0.001).fit(features, train_label)\n",
    "    \n",
    "    \n",
    "    # 计算测试数据集矩阵，使用同样的stop_word和max_df，vocabulary来自训练集进行transform_fit拟合模型后的属性\n",
    "    test_tf = TfidfVectorizer(stop_words=STOP_WORDS, max_df=0.5, vocabulary=tf.vocabulary_)\n",
    "    test_features = test_tf.fit_transform(test_data)\n",
    "    # 模型预测\n",
    "    predicted_labels = clf.predict(test_features)\n",
    "    # 获取结果\n",
    "    x = metrics.accuracy_score(test_label, predicted_labels)\n",
    "    return x\n",
    "\n",
    "\n",
    "# 获取训练数据集和测试数据集的分词结果和标签\n",
    "train_documents, train_labels = load_data('./data/train')\n",
    "test_documents, test_labels = load_data('./data/test')\n",
    "\n",
    "# 通过训练数据集、测试数据集的分词结果和标签，得到预测结果打分\n",
    "score = train_fun(train_documents, train_labels, test_documents, test_labels)\n",
    "print(score)"
   ]
  },
  {
   "cell_type": "code",
   "execution_count": null,
   "metadata": {
    "collapsed": true
   },
   "outputs": [],
   "source": []
  }
 ],
 "metadata": {
  "kernelspec": {
   "display_name": "Python 3",
   "language": "python",
   "name": "python3"
  },
  "language_info": {
   "codemirror_mode": {
    "name": "ipython",
    "version": 3
   },
   "file_extension": ".py",
   "mimetype": "text/x-python",
   "name": "python",
   "nbconvert_exporter": "python",
   "pygments_lexer": "ipython3",
   "version": "3.6.3"
  }
 },
 "nbformat": 4,
 "nbformat_minor": 2
}
