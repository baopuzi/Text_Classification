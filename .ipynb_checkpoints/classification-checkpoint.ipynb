{
 "cells": [
  {
   "cell_type": "code",
   "execution_count": 1,
   "metadata": {},
   "outputs": [
    {
     "name": "stderr",
     "output_type": "stream",
     "text": [
      "Building prefix dict from the default dictionary ...\n",
      "Loading model from cache C:\\Users\\MQ\\AppData\\Local\\Temp\\jieba.cache\n",
      "Loading model cost 1.715 seconds.\n",
      "Prefix dict has been built succesfully.\n"
     ]
    },
    {
     "name": "stdout",
     "output_type": "stream",
     "text": [
      "0.91\n"
     ]
    }
   ],
   "source": [
    "#!/usr/bin/env python\n",
    "# -*- coding:utf8 -*-\n",
    "import os\n",
    "import jieba\n",
    "from sklearn.feature_extraction.text import TfidfVectorizer\n",
    "from sklearn.naive_bayes import MultinomialNB\n",
    "from sklearn import metrics\n",
    "\n",
    "labels = {'体育': 0, '女性': 1, '文学': 2, '校园': 3}\n",
    "# 加载停用词\n",
    "with open('./data/stop/stopword.txt', 'rb') as f:\n",
    "    STOP_WORDS = [line.strip() for line in f.readlines()]\n",
    "\n",
    "\n",
    "def load_data(base_path):\n",
    "    \"\"\"\n",
    "    :param base_path: 基础路径\n",
    "    :return: 分词列表，标签列表\n",
    "    \"\"\"\n",
    "    documents = []\n",
    "    labels = []\n",
    "\n",
    "    for root, dirs, files in os.walk(base_path): # 循环所有文件并进行分词打标\n",
    "        for file in files:\n",
    "            label = root.split('\\\\')[-1] # 因为windows上路径符号自动转成\\了，所以要转义下\n",
    "            labels.append(label)\n",
    "            filename = os.path.join(root, file)\n",
    "            with open(filename, 'rb') as f: # 因为字符集问题因此直接用二进制方式读取\n",
    "                content = f.read()\n",
    "                word_list = list(jieba.cut(content))\n",
    "                words = [wl for wl in word_list]\n",
    "                documents.append(' '.join(words))\n",
    "    return documents, labels\n",
    "\n",
    "\n",
    "def train_fun(td, tl, testd, testl):\n",
    "    \"\"\"\n",
    "    构造模型并计算测试集准确率，字数限制变量名简写\n",
    "    :param td: 训练集数据\n",
    "    :param tl: 训练集标签\n",
    "    :param testd: 测试集数据\n",
    "    :param testl: 测试集标签\n",
    "    :return: 测试集准确率\n",
    "    \"\"\"\n",
    "    # 计算矩阵\n",
    "    tt = TfidfVectorizer(stop_words=STOP_WORDS, max_df=0.5)\n",
    "    tf = tt.fit_transform(td)\n",
    "    # 训练模型\n",
    "    clf = MultinomialNB(alpha=0.001).fit(tf, tl)\n",
    "    # 模型预测\n",
    "    test_tf = TfidfVectorizer(stop_words=STOP_WORDS, max_df=0.5, vocabulary=tt.vocabulary_)\n",
    "    test_features = test_tf.fit_transform(testd)\n",
    "    predicted_labels = clf.predict(test_features)\n",
    "    # 获取结果\n",
    "    x = metrics.accuracy_score(testl, predicted_labels)\n",
    "    return x\n",
    "\n",
    "\n",
    "# text classification与代码同目录下\n",
    "train_documents, train_labels = load_data('./data/train')\n",
    "test_documents, test_labels = load_data('./data/test')\n",
    "x = train_fun(train_documents, train_labels, test_documents, test_labels)\n",
    "print(x)"
   ]
  },
  {
   "cell_type": "code",
   "execution_count": null,
   "metadata": {
    "collapsed": true
   },
   "outputs": [],
   "source": []
  }
 ],
 "metadata": {
  "kernelspec": {
   "display_name": "Python 3",
   "language": "python",
   "name": "python3"
  },
  "language_info": {
   "codemirror_mode": {
    "name": "ipython",
    "version": 3
   },
   "file_extension": ".py",
   "mimetype": "text/x-python",
   "name": "python",
   "nbconvert_exporter": "python",
   "pygments_lexer": "ipython3",
   "version": "3.6.3"
  }
 },
 "nbformat": 4,
 "nbformat_minor": 2
}
